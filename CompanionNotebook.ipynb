{
 "cells": [
  {
   "cell_type": "markdown",
   "id": "b1cfee30-a76c-414f-89c5-53a3aac266ce",
   "metadata": {},
   "source": [
    "## Generative AI Workshop Companion Notebook\n",
    "\n",
    "Fiddler AI for Mozilla's Responsible AI Challenge 2023\n",
    "\n",
    "This notebook provides examples of how to retrieve the workshop database and image files from AWS for additional and independent exploration.  This is intended for use after completing the Streamlit web-app generative workflow and analysis pages."
   ]
  },
  {
   "cell_type": "code",
   "execution_count": null,
   "id": "1a2b4292-78eb-484b-8154-2fe12634b0e1",
   "metadata": {},
   "outputs": [],
   "source": [
    "!pip install umap-learn"
   ]
  },
  {
   "cell_type": "code",
   "execution_count": 154,
   "id": "58d89371-365e-4e3a-ae24-0cac99f4f919",
   "metadata": {},
   "outputs": [],
   "source": [
    "import os\n",
    "import umap\n",
    "import requests\n",
    "import numpy as np\n",
    "import pandas as pd\n",
    "import matplotlib.pyplot as plt\n",
    "from IPython.display import Image, display\n",
    "\n",
    "BUCKET_URL = 'https://ds-gen-ai-workshop.s3.us-west-2.amazonaws.com'\n",
    "DATAFRAME_FILE = 'gen_workshop_dataframe.csv'\n",
    "\n",
    "# SESSION is just a reference code to help isolate data from different workshop sessions and experiments.\n",
    "# We'll use it below to select a subset of the complete database.   \n",
    "SESSION = 'banana'\n",
    "NUM_EMBEDDING_COMPONENTS = 64 # MAX 1536"
   ]
  },
  {
   "cell_type": "markdown",
   "id": "05ac715b-b0a7-488e-907c-1e5b1c306545",
   "metadata": {},
   "source": [
    "### Define utility functions for data retrieval "
   ]
  },
  {
   "cell_type": "code",
   "execution_count": null,
   "id": "31403f75-13cc-4354-a5bf-cfeb4314af41",
   "metadata": {},
   "outputs": [],
   "source": [
    "def get_file_from_s3(filename, dest_path=None):\n",
    "    dest = dest_path if dest_path else filename\n",
    "    \n",
    "    r = requests.get(BUCKET_URL + '/' + filename)\n",
    "    with open(dest,'wb') as f:  \n",
    "        f.write(r.content)\n",
    "\n",
    "def get_db_data():\n",
    "    r = requests.get(BUCKET_URL + '/' + DATAFRAME_FILE)\n",
    "    get_file_from_s3(DATAFRAME_FILE)    \n",
    "    \n",
    "    df = pd.read_csv(DATAFRAME_FILE)\n",
    "    \n",
    "    # Lists get stringified in csv format\n",
    "    df['embedding'] = df['embedding'].apply(lambda x: eval(x))\n",
    "\n",
    "    return df\n",
    "\n",
    "df_raw = get_db_data()\n",
    "\n",
    "df_raw"
   ]
  },
  {
   "cell_type": "markdown",
   "id": "ced61e92-516f-4047-8e24-8895239602b2",
   "metadata": {},
   "source": [
    "### Run UMAP dimensionality-reduction transformation on embeddings\n",
    "Note that we reduce the the number of embedding components. 64 or 128 components provide good results given the limited data available."
   ]
  },
  {
   "cell_type": "code",
   "execution_count": null,
   "id": "42eae27b-1b05-460b-a8fb-7ca9e7e45af8",
   "metadata": {},
   "outputs": [],
   "source": [
    "df = df_raw[df_raw['session_id']==SESSION].reset_index(drop=True)\n",
    "embs= np.array(df['embedding'].tolist())\n",
    "reducer = umap.UMAP(n_components=2, n_neighbors=3, random_state=42)\n",
    "umap_coords = reducer.fit_transform(embs[:, :NUM_EMBEDDING_COMPONENTS])\n",
    "\n",
    "df_umap = pd.DataFrame(umap_coords, columns=['UMAP_'+str(x) for x in range(umap_coords.shape[1])])\n",
    "\n",
    "df = pd.concat([df, df_umap], axis=1)"
   ]
  },
  {
   "cell_type": "markdown",
   "id": "0dd27b5b-1f8c-417a-b222-49badbca835d",
   "metadata": {},
   "source": [
    "### Plot the result and label according to a categorical column from the dataframe\n",
    "This would typically bee one of the feedback columns or, as set below, the category for which the user prompt was generated."
   ]
  },
  {
   "cell_type": "code",
   "execution_count": null,
   "id": "2505df17-e9de-4770-8a13-353369dead27",
   "metadata": {},
   "outputs": [],
   "source": [
    "plt.figure(figsize=[6, 6])\n",
    "\n",
    "col = 'category'\n",
    "\n",
    "for val in df[col].unique():\n",
    "    df_temp = df[df[col] == val]\n",
    "    \n",
    "    plt.plot(df_temp['UMAP_0'], df_temp['UMAP_1'], 'o', label=val)\n",
    "\n",
    "plt.xlabel('UMAP_0')\n",
    "plt.ylabel('UMAP_1')\n",
    "plt.legend();"
   ]
  },
  {
   "cell_type": "markdown",
   "id": "7358bf93-163d-40e1-8996-3ba8236a837e",
   "metadata": {},
   "source": [
    "### This demonstrates how to retrieve images from S3 and display in the notebook\n",
    "One might choose to isolate a cluster of interesting examples in the semantic UMAP space and show their prompts and images in a loop."
   ]
  },
  {
   "cell_type": "code",
   "execution_count": null,
   "id": "1d27544d-cf5f-46f6-ad26-115d7d11cbb3",
   "metadata": {},
   "outputs": [],
   "source": [
    "row_id = 1\n",
    "data_row = df.iloc[row_id]\n",
    "\n",
    "# Print some data\n",
    "print(data_row)\n",
    "\n",
    "# Display an Image\n",
    "filename = data_row.prompt_id + '.png'\n",
    "get_file_from_s3(filename)\n",
    "display(Image(filename=filename))"
   ]
  }
 ],
 "metadata": {
  "kernelspec": {
   "display_name": "Python 3 (ipykernel)",
   "language": "python",
   "name": "python3"
  },
  "language_info": {
   "codemirror_mode": {
    "name": "ipython",
    "version": 3
   },
   "file_extension": ".py",
   "mimetype": "text/x-python",
   "name": "python",
   "nbconvert_exporter": "python",
   "pygments_lexer": "ipython3",
   "version": "3.8.11"
  }
 },
 "nbformat": 4,
 "nbformat_minor": 5
}
